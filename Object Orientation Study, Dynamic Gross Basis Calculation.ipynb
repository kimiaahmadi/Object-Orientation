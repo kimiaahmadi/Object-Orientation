{
 "cells": [
  {
   "cell_type": "markdown",
   "id": "73565c4e",
   "metadata": {},
   "source": [

  {
   "cell_type": "code",
   "execution_count": 1,
   "id": "98ec211f",
   "metadata": {},
   "outputs": [],
   "source": [
    "import pandas as pd\n",
    "import ipywidgets as widgets\n",
    "from IPython.display import display"
   ]
  },
  {
   "cell_type": "code",
   "execution_count": 2,
   "id": "9d46401a",
   "metadata": {},
   "outputs": [],
   "source": [
    "file_path = 'Deliv bonds - Copy.csv'"
   ]
  },
  {
   "cell_type": "code",
   "execution_count": 3,
   "id": "3b4e4a49",
   "metadata": {},
   "outputs": [
    {
     "data": {
      "text/html": [
       "<div>\n",
       "<style scoped>\n",
       "    .dataframe tbody tr th:only-of-type {\n",
       "        vertical-align: middle;\n",
       "    }\n",
       "\n",
       "    .dataframe tbody tr th {\n",
       "        vertical-align: top;\n",
       "    }\n",
       "\n",
       "    .dataframe thead th {\n",
       "        text-align: right;\n",
       "    }\n",
       "</style>\n",
       "<table border=\"1\" class=\"dataframe\">\n",
       "  <thead>\n",
       "    <tr style=\"text-align: right;\">\n",
       "      <th></th>\n",
       "      <th>Unnamed: 0</th>\n",
       "      <th>isin_of_deliverable_bonds</th>\n",
       "      <th>conversion_factor</th>\n",
       "      <th>security_des</th>\n",
       "      <th>id_cusip</th>\n",
       "    </tr>\n",
       "  </thead>\n",
       "  <tbody>\n",
       "    <tr>\n",
       "      <th>0</th>\n",
       "      <td>TUM4 Comdty</td>\n",
       "      <td>US91282CBT71 Govt</td>\n",
       "      <td>0.9140</td>\n",
       "      <td>T 0 3/4 03/31/26</td>\n",
       "      <td>91282CBT7</td>\n",
       "    </tr>\n",
       "    <tr>\n",
       "      <th>1</th>\n",
       "      <td>TUM4 Comdty</td>\n",
       "      <td>US91282CBW01 Govt</td>\n",
       "      <td>0.9101</td>\n",
       "      <td>T 0 3/4 04/30/26</td>\n",
       "      <td>91282CBW0</td>\n",
       "    </tr>\n",
       "    <tr>\n",
       "      <th>2</th>\n",
       "      <td>TUM4 Comdty</td>\n",
       "      <td>US91282CCF68 Govt</td>\n",
       "      <td>0.9063</td>\n",
       "      <td>T 0 3/4 05/31/26</td>\n",
       "      <td>91282CCF6</td>\n",
       "    </tr>\n",
       "    <tr>\n",
       "      <th>3</th>\n",
       "      <td>TUM4 Comdty</td>\n",
       "      <td>US91282CCJ80 Govt</td>\n",
       "      <td>0.9047</td>\n",
       "      <td>T 0 7/8 06/30/26</td>\n",
       "      <td>91282CCJ8</td>\n",
       "    </tr>\n",
       "    <tr>\n",
       "      <th>4</th>\n",
       "      <td>TUM4 Comdty</td>\n",
       "      <td>US91282CGR60 Govt</td>\n",
       "      <td>0.9774</td>\n",
       "      <td>T 4 5/8 03/15/26</td>\n",
       "      <td>91282CGR6</td>\n",
       "    </tr>\n",
       "  </tbody>\n",
       "</table>\n",
       "</div>"
      ],
      "text/plain": [
       "    Unnamed: 0 isin_of_deliverable_bonds  conversion_factor      security_des  \\\n",
       "0  TUM4 Comdty         US91282CBT71 Govt             0.9140  T 0 3/4 03/31/26   \n",
       "1  TUM4 Comdty         US91282CBW01 Govt             0.9101  T 0 3/4 04/30/26   \n",
       "2  TUM4 Comdty         US91282CCF68 Govt             0.9063  T 0 3/4 05/31/26   \n",
       "3  TUM4 Comdty         US91282CCJ80 Govt             0.9047  T 0 7/8 06/30/26   \n",
       "4  TUM4 Comdty         US91282CGR60 Govt             0.9774  T 4 5/8 03/15/26   \n",
       "\n",
       "    id_cusip  \n",
       "0  91282CBT7  \n",
       "1  91282CBW0  \n",
       "2  91282CCF6  \n",
       "3  91282CCJ8  \n",
       "4  91282CGR6  "
      ]
     },
     "execution_count": 3,
     "metadata": {},
     "output_type": "execute_result"
    }
   ],
   "source": [
    "df = pd.read_csv(file_path)\n",
    "\n",
    "df.head()"
   ]
  },
  {
   "cell_type": "markdown",
   "id": "20fd81f4",
   "metadata": {},
   "source": [
    "Checking if there are any missing values that need to be cleaned before we begin to manipulate the data "
   ]
  },
  {
   "cell_type": "code",
   "execution_count": 4,
   "id": "ec34201d",
   "metadata": {},
   "outputs": [
    {
     "data": {
      "text/plain": [
       "Unnamed: 0                   0\n",
       "isin_of_deliverable_bonds    0\n",
       "conversion_factor            0\n",
       "security_des                 0\n",
       "id_cusip                     0\n",
       "dtype: int64"
      ]
     },
     "execution_count": 4,
     "metadata": {},
     "output_type": "execute_result"
    }
   ],
   "source": [
    "df.isna().sum()"
   ]
  },
  {
   "cell_type": "code",
   "execution_count": 5,
   "id": "f2644583",
   "metadata": {},
   "outputs": [
    {
     "data": {
      "text/html": [
       "<div>\n",
       "<style scoped>\n",
       "    .dataframe tbody tr th:only-of-type {\n",
       "        vertical-align: middle;\n",
       "    }\n",
       "\n",
       "    .dataframe tbody tr th {\n",
       "        vertical-align: top;\n",
       "    }\n",
       "\n",
       "    .dataframe thead th {\n",
       "        text-align: right;\n",
       "    }\n",
       "</style>\n",
       "<table border=\"1\" class=\"dataframe\">\n",
       "  <thead>\n",
       "    <tr style=\"text-align: right;\">\n",
       "      <th></th>\n",
       "      <th>futures_ticker</th>\n",
       "      <th>isin_of_deliverable_bonds</th>\n",
       "      <th>conversion_factor</th>\n",
       "      <th>security_des</th>\n",
       "      <th>id_cusip</th>\n",
       "    </tr>\n",
       "  </thead>\n",
       "  <tbody>\n",
       "    <tr>\n",
       "      <th>0</th>\n",
       "      <td>TUM4 Comdty</td>\n",
       "      <td>US91282CBT71 Govt</td>\n",
       "      <td>0.9140</td>\n",
       "      <td>T 0 3/4 03/31/26</td>\n",
       "      <td>91282CBT7</td>\n",
       "    </tr>\n",
       "    <tr>\n",
       "      <th>1</th>\n",
       "      <td>TUM4 Comdty</td>\n",
       "      <td>US91282CBW01 Govt</td>\n",
       "      <td>0.9101</td>\n",
       "      <td>T 0 3/4 04/30/26</td>\n",
       "      <td>91282CBW0</td>\n",
       "    </tr>\n",
       "    <tr>\n",
       "      <th>2</th>\n",
       "      <td>TUM4 Comdty</td>\n",
       "      <td>US91282CCF68 Govt</td>\n",
       "      <td>0.9063</td>\n",
       "      <td>T 0 3/4 05/31/26</td>\n",
       "      <td>91282CCF6</td>\n",
       "    </tr>\n",
       "    <tr>\n",
       "      <th>3</th>\n",
       "      <td>TUM4 Comdty</td>\n",
       "      <td>US91282CCJ80 Govt</td>\n",
       "      <td>0.9047</td>\n",
       "      <td>T 0 7/8 06/30/26</td>\n",
       "      <td>91282CCJ8</td>\n",
       "    </tr>\n",
       "    <tr>\n",
       "      <th>4</th>\n",
       "      <td>TUM4 Comdty</td>\n",
       "      <td>US91282CGR60 Govt</td>\n",
       "      <td>0.9774</td>\n",
       "      <td>T 4 5/8 03/15/26</td>\n",
       "      <td>91282CGR6</td>\n",
       "    </tr>\n",
       "  </tbody>\n",
       "</table>\n",
       "</div>"
      ],
      "text/plain": [
       "  futures_ticker isin_of_deliverable_bonds  conversion_factor  \\\n",
       "0    TUM4 Comdty         US91282CBT71 Govt             0.9140   \n",
       "1    TUM4 Comdty         US91282CBW01 Govt             0.9101   \n",
       "2    TUM4 Comdty         US91282CCF68 Govt             0.9063   \n",
       "3    TUM4 Comdty         US91282CCJ80 Govt             0.9047   \n",
       "4    TUM4 Comdty         US91282CGR60 Govt             0.9774   \n",
       "\n",
       "       security_des   id_cusip  \n",
       "0  T 0 3/4 03/31/26  91282CBT7  \n",
       "1  T 0 3/4 04/30/26  91282CBW0  \n",
       "2  T 0 3/4 05/31/26  91282CCF6  \n",
       "3  T 0 7/8 06/30/26  91282CCJ8  \n",
       "4  T 4 5/8 03/15/26  91282CGR6  "
      ]
     },
     "execution_count": 5,
     "metadata": {},
     "output_type": "execute_result"
    }
   ],
   "source": [
    "df = df.rename(columns={'Unnamed: 0': 'futures_ticker'})\n",
    "\n",
    "df.head()"
   ]
  },
  {
   "cell_type": "markdown",
   "id": "9b4429de",
   "metadata": {},
   "source": [
    "Creating Treasury Futures Class that encapsulate the behavior/relationship between the treasury future, deliverable bond, and gross basis"
   ]
  },
  {
   "cell_type": "code",
   "execution_count": 6,
   "id": "ebd6efa0",
   "metadata": {},
   "outputs": [],
   "source": [
    "class TreasuryFuture:\n",
    "    def __init__(self, ticker):\n",
    "        \"\"\"\n",
    "        Initializing a TreasuryFuture object.\n",
    "        \"\"\"\n",
    "        self.ticker = ticker  # Stores ticker for treasury future\n",
    "        self.deliverable_bonds = pd.DataFrame()  # Creating a blank DataFrame to store deliverable bond data\n",
    "        self.bond_prices = {}  # Creating a blank dictionary to store bond prices\n",
    "        \n",
    "    def load_deliverable_data(self, file_path):\n",
    "        \"\"\"\n",
    "        Load the deliverable bond data from a CSV file.\n",
    "        \"\"\"\n",
    "        self.deliverable_bonds = pd.read_csv(file_path)  # Reading deliverable bond data from CSV and storing it in the DataFrame\n",
    "        \n",
    "    def set_bond_prices(self, bond_prices):\n",
    "        \"\"\"\n",
    "        Set the current prices for the deliverable bonds.\n",
    "        \"\"\"\n",
    "        self.bond_prices = bond_prices  # Storing bond prices in the dictionary created above\n",
    "        self.update_gross_basis()  # Updates gross basis with new information\n",
    "        \n",
    "    def update_gross_basis(self):\n",
    "        \"\"\"\n",
    "        Calculate the gross basis for each deliverable bond.\n",
    "        \"\"\"\n",
    "        self.deliverable_bonds['gross_basis'] = self.deliverable_bonds.apply(\n",
    "            lambda row: self.calculate_gross_basis(row['isin_of_deliverable_bonds'], row['conversion_factor']),\n",
    "            axis=1\n",
    "        )  # Calculates gross basis by applying the calculate_gross_basis method to each row of deliverable bonds, stores that in a new column called 'gross_basis'\n",
    "        \n",
    "    def calculate_gross_basis(self, bond_isin, conversion_factor):\n",
    "        \"\"\"\n",
    "        Calculate the gross basis for a given bond.\n",
    "        \"\"\"\n",
    "        bond_price = self.bond_prices.get(bond_isin, 0)  # Gets the bond price from the dictionary\n",
    "        futures_price = self.get_futures_price()  # Gets the futures price\n",
    "        accrued_interest = self.get_accrued_interest(bond_isin)  # Gets the accrued interest\n",
    "        gross_basis = bond_price - (futures_price * conversion_factor) + accrued_interest  # Calculate the gross basis using the formula\n",
    "        \n",
    "        return gross_basis  \n",
    "    def get_futures_price(self):\n",
    "        \"\"\"\n",
    "        Dummy method to get the futures price. \n",
    "        \"\"\"\n",
    "        return 1000  # Placeholder value for the futures price\n",
    "\n",
    "    def get_accrued_interest(self, bond_isin):\n",
    "        \"\"\"\n",
    "        Dummy method to get the accrued interest for a bond.\n",
    "        \"\"\"\n",
    "        return 2  # Placeholder value for the accrued interest\n",
    "\n",
    "    def get_gross_basis(self, bond_isin):\n",
    "        \"\"\"\n",
    "        Retrieve the gross basis for a given bond.\n",
    "        \"\"\"\n",
    "        bond_row = self.deliverable_bonds[self.deliverable_bonds['isin_of_deliverable_bonds'] == bond_isin]  # Filter the DataFrame for the given bond ISIN\n",
    "        if not bond_row.empty:\n",
    "            return bond_row['gross_basis'].values[0]  # Return the gross basis if the bond is found\n",
    "        else:\n",
    "            return None  # Return None if the bond is not found\n"
   ]
  },
  {
   "cell_type": "markdown",
   "id": "b053cf7c",
   "metadata": {},
   "source": [
    "Now that I have created the class, I am working on creating an output that easily calculates the gross basis for any deliverable bond."
   ]
  },
  {
   "cell_type": "code",
   "execution_count": 7,
   "id": "fc7252fa",
   "metadata": {},
   "outputs": [],
   "source": [
    "#what I am doing here is creating drop-downs for easy interaction.\n",
    "\n",
    "futures_tickers = df['futures_ticker'].unique()\n",
    "bond_isins = df['isin_of_deliverable_bonds'].unique()\n",
    "\n",
    "bond_isin_dropdown = widgets.Dropdown(\n",
    "    options=bond_isins,\n",
    "    description='Bond ISIN:',\n",
    "    value=bond_isins[0]\n",
    ")\n",
    "\n",
    "futures_ticker_dropdown = widgets.Dropdown(\n",
    "    options=futures_tickers,\n",
    "    description='Futures Ticker:',\n",
    "    value=futures_tickers[0]\n",
    ")\n",
    "\n",
    "bond_price_text = widgets.FloatText(\n",
    "    value=100,\n",
    "    description='Bond Price:'\n",
    ")\n",
    "\n",
    "#essentially here I am making this easier to use by having the futures ticker immediately adjust when the bond isin is selected\n",
    "def update_futures_ticker_options(*args):\n",
    "    selected_bond_isin = bond_isin_dropdown.value\n",
    "    filtered_futures = df[df['isin_of_deliverable_bonds'] == selected_bond_isin]['futures_ticker'].unique()\n",
    "    futures_ticker_dropdown.options = filtered_futures\n",
    "    if filtered_futures.size > 0:\n",
    "        futures_ticker_dropdown.value = filtered_futures[0]\n",
    "    \n",
    "        \n",
    "bond_isin_dropdown.observe(update_futures_ticker_options, 'value')"
   ]
  },
  {
   "cell_type": "markdown",
   "id": "257ea79b",
   "metadata": {},
   "source": [
    "#### Final Result: Adjust interactive widgets to get gross basis calculation"
   ]
  },
  {
   "cell_type": "code",
   "execution_count": 8,
   "id": "83030924",
   "metadata": {},
   "outputs": [
    {
     "data": {
      "application/vnd.jupyter.widget-view+json": {
       "model_id": "9a8afc7b3b7348289ee2e713633d70a5",
       "version_major": 2,
       "version_minor": 0
      },
      "text/plain": [
       "interactive(children=(Dropdown(description='Bond ISIN:', options=('US91282CBT71 Govt', 'US91282CBW01 Govt', 'U…"
      ]
     },
     "metadata": {},
     "output_type": "display_data"
    }
   ],
   "source": [
    "def update_gross_basis(bond_isin, futures_ticker, bond_price):\n",
    "    treasury_future = TreasuryFuture(futures_ticker)\n",
    "    treasury_future.load_deliverable_data(file_path)\n",
    "    treasury_future.set_bond_prices({bond_isin: bond_price})  \n",
    "    gross_basis = treasury_future.get_gross_basis(bond_isin)\n",
    "    print(f\"Gross Basis for {bond_isin}: {gross_basis}\")\n",
    "    \n",
    "interactive_widget = widgets.interactive(update_gross_basis, \n",
    "                                         bond_isin=bond_isin_dropdown,\n",
    "                                         futures_ticker=futures_ticker_dropdown,\n",
    "                                         bond_price=bond_price_text)\n",
    "display(interactive_widget)"
   ]
  }
 ],
 "metadata": {
  "kernelspec": {
   "display_name": "Python 3 (ipykernel)",
   "language": "python",
   "name": "python3"
  },
  "language_info": {
   "codemirror_mode": {
    "name": "ipython",
    "version": 3
   },
   "file_extension": ".py",
   "mimetype": "text/x-python",
   "name": "python",
   "nbconvert_exporter": "python",
   "pygments_lexer": "ipython3",
   "version": "3.11.4"
  }
 },
 "nbformat": 4,
 "nbformat_minor": 5
}
